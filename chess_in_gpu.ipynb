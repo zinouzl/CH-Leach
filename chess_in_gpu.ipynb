{
  "nbformat": 4,
  "nbformat_minor": 0,
  "metadata": {
    "colab": {
      "name": "chess_in_gpu.ipynb",
      "version": "0.3.2",
      "provenance": [],
      "collapsed_sections": [],
      "include_colab_link": true
    },
    "kernelspec": {
      "name": "python3",
      "display_name": "Python 3"
    },
    "accelerator": "GPU"
  },
  "cells": [
    {
      "cell_type": "markdown",
      "metadata": {
        "id": "view-in-github",
        "colab_type": "text"
      },
      "source": [
        "<a href=\"https://colab.research.google.com/github/zinouzl/CH-Leach/blob/master/chess_in_gpu.ipynb\" target=\"_parent\"><img src=\"https://colab.research.google.com/assets/colab-badge.svg\" alt=\"Open In Colab\"/></a>"
      ]
    },
    {
      "metadata": {
        "id": "PtgR-BihbsCe",
        "colab_type": "code",
        "colab": {}
      },
      "cell_type": "code",
      "source": [
        "import chess\n",
        "import chess.pgn\n",
        "import tensorflow as tf\n",
        "import os"
      ],
      "execution_count": 0,
      "outputs": []
    },
    {
      "metadata": {
        "id": "vPapy0MUb1XI",
        "colab_type": "code",
        "outputId": "c7e629cc-2c9b-4b77-abca-6e98331bb195",
        "colab": {
          "base_uri": "https://localhost:8080/",
          "height": 102
        }
      },
      "cell_type": "code",
      "source": [
        "with tf.Session() as sess:\n",
        "    print(tf.test.is_gpu_available())\n",
        "    devices = sess.list_devices()\n",
        "for i in devices:\n",
        "  print(i)"
      ],
      "execution_count": 2,
      "outputs": [
        {
          "output_type": "stream",
          "text": [
            "True\n",
            "_DeviceAttributes(/job:localhost/replica:0/task:0/device:CPU:0, CPU, 268435456, 7403753625657960704)\n",
            "_DeviceAttributes(/job:localhost/replica:0/task:0/device:XLA_CPU:0, XLA_CPU, 17179869184, 17988688622440529455)\n",
            "_DeviceAttributes(/job:localhost/replica:0/task:0/device:XLA_GPU:0, XLA_GPU, 17179869184, 11169785342285620579)\n",
            "_DeviceAttributes(/job:localhost/replica:0/task:0/device:GPU:0, GPU, 14800692839, 15304874887931122018)\n"
          ],
          "name": "stdout"
        }
      ]
    },
    {
      "metadata": {
        "id": "Odefcq0Bez_t",
        "colab_type": "code",
        "outputId": "e5c5700e-bb31-47f2-ccdc-d2b0f75223c7",
        "colab": {
          "base_uri": "https://localhost:8080/",
          "height": 170
        }
      },
      "cell_type": "code",
      "source": [
        "p = chess.Board()\n",
        "print(p)\n",
        "print(*p.legal_moves)"
      ],
      "execution_count": 0,
      "outputs": [
        {
          "output_type": "stream",
          "text": [
            "r n b q k b n r\n",
            "p p p p p p p p\n",
            ". . . . . . . .\n",
            ". . . . . . . .\n",
            ". . . . . . . .\n",
            ". . . . . . . .\n",
            "P P P P P P P P\n",
            "R N B Q K B N R\n",
            "g1h3 g1f3 b1c3 b1a3 h2h3 g2g3 f2f3 e2e3 d2d3 c2c3 b2b3 a2a3 h2h4 g2g4 f2f4 e2e4 d2d4 c2c4 b2b4 a2a4\n"
          ],
          "name": "stdout"
        }
      ]
    },
    {
      "metadata": {
        "id": "r4xfjhJGe5zx",
        "colab_type": "code",
        "outputId": "601c8cb7-4a5a-430c-c622-7bd92c261145",
        "colab": {
          "base_uri": "https://localhost:8080/",
          "height": 153
        }
      },
      "cell_type": "code",
      "source": [
        "p.push_san('e4')\n",
        "print(p)"
      ],
      "execution_count": 0,
      "outputs": [
        {
          "output_type": "stream",
          "text": [
            "r n b q k b n r\n",
            "p p p p p p p p\n",
            ". . . . . . . .\n",
            ". . . . . . . .\n",
            ". . . . P . . .\n",
            ". . . . . . . .\n",
            "P P P P . P P P\n",
            "R N B Q K B N R\n"
          ],
          "name": "stdout"
        }
      ]
    },
    {
      "metadata": {
        "id": "JZzfSlo0z_pW",
        "colab_type": "code",
        "colab": {}
      },
      "cell_type": "code",
      "source": [
        "import torch.nn as nn\n",
        "import torch.nn.functional as F\n",
        "\n",
        "\n",
        "class NetModel(nn.Module):\n",
        "  def __init__(self):\n",
        "    super(NetModel,self).__init__()\n",
        "    self.conv1 = nn.Conv2d(1,20,kernel_size=3,padding=1)\n",
        "    self.conv2 = nn.Conv2d(20,40,kernel_size=3,padding=1)\n",
        "    self.conv3 = nn.Conv2d(40,60,kernel_size=3,padding=1)\n",
        "    self.dropout1 = nn.Dropout2d()\n",
        "    \n",
        "    self.conv4 = nn.Conv2d(60,60,kernel_size=3,padding=1)\n",
        "    self.conv5 = nn.Conv2d(60,60,kernel_size=3,padding=1)\n",
        "    self.conv6 = nn.Conv2d(60,60,kernel_size=3,padding=1)\n",
        "    self.dropout2 = nn.Dropout2d()\n",
        "    \n",
        "    self.linear1 = nn.Linear(60*8*8,512)\n",
        "    self.linear2 = nn.Linear(512,1)\n",
        "    self.linear3 = nn.Linear(6400,1)\n",
        "    self.tanh = nn.Tanh()\n",
        "    \n",
        "  def forward(self,x):\n",
        "\n",
        "    x = F.relu(self.conv1(x))\n",
        "    x = F.relu(self.conv2(x))\n",
        "    x = F.relu(self.conv3(x),2)\n",
        "    x = self.dropout1(x)\n",
        "    \n",
        "\n",
        "    x = F.relu(self.conv4(x))\n",
        "    x = F.relu(self.conv5(x))\n",
        "    x = F.relu(self.conv6(x))\n",
        "    self.dropout2(x)\n",
        "    #print('before reshaping',x.shape)\n",
        "    x = x.view(-1,8*8*60)\n",
        "    #print('after reshaping',x.shape)\n",
        "    x = F.relu(self.linear1(x))\n",
        "    x = F.relu(self.linear2(x))\n",
        "    #print(x.shape)\n",
        "    \n",
        "    return self.tanh(x)"
      ],
      "execution_count": 0,
      "outputs": []
    },
    {
      "metadata": {
        "id": "WXa0wr2B0AYn",
        "colab_type": "code",
        "colab": {}
      },
      "cell_type": "code",
      "source": [
        "from torch.utils.data import Dataset,DataLoader\n",
        "from torchvision import transforms\n",
        "from torch import optim\n",
        "import torch\n",
        "\n",
        "\n",
        "class chessData(Dataset):\n",
        "  def __init__(self,X,Y):\n",
        "    self.X=torch.from_numpy(X)\n",
        "    self.Y=torch.from_numpy(Y)\n",
        "    self.length = Y.shape[0]\n",
        "  def __getitem__(self,index):\n",
        "    return self.X[index],self.Y[index]\n",
        "  \n",
        "  def __len__(self):\n",
        "    return self.length\n",
        "  \n",
        "  \n",
        "  "
      ],
      "execution_count": 0,
      "outputs": []
    },
    {
      "metadata": {
        "id": "FSLdZQ5s0Ani",
        "colab_type": "code",
        "colab": {}
      },
      "cell_type": "code",
      "source": [
        "import chess\n",
        "import numpy as np\n",
        "class State:\n",
        "  def __init__(self,board=None):\n",
        "    if board ==None:\n",
        "      self.board = chess.Board()\n",
        "    else:\n",
        "      self.board = board\n",
        "  def serialize(self):\n",
        "    assert self.board.is_valid()\n",
        "    state = np.zeros((8,8,5))\n",
        "    bstate = np.zeros((64),np.uint8)\n",
        "    for i in range(8*8):\n",
        "      pi = self.board.piece_at(i)\n",
        "      if pi is not None:\n",
        "\n",
        "        bstate[i] = {'P':1,'N':2,'B':3,'R':4,'Q':5,'K':6,\\\n",
        "                     'p':9,'n':10,'b':11,'r':12,'q':13,'k':14}[pi.symbol()]\n",
        "    if self.board.has_legal_en_passant():\n",
        "      assert bstate[self.board.ep_square] == 0\n",
        "      bstate[self.board.ep_square] =8\n",
        "    if self.board.has_queenside_castling_rights(True):\n",
        "      assert bstate[0]==4\n",
        "      bstate[0]=7\n",
        "    if self.board.has_kingside_castling_rights(True):\n",
        "      assert bstate[7]==4\n",
        "      bstate[7]=7\n",
        "    if self.board.has_queenside_castling_rights(False):\n",
        "      assert bstate[64-8]==12\n",
        "      bstate[56]=8+7\n",
        "    if self.board.has_kingside_castling_rights(False):\n",
        "      assert bstate[63]==8+4\n",
        "      bstate[63]=8+7\n",
        "     \n",
        "\n",
        "    bstate=np.reshape(bstate,(8,8))\n",
        "        \n",
        "    state[:,:,4]=(self.board.turn*1.0)\n",
        "    state[:,:,0]=(bstate>>1)&1\n",
        "    state[:,:,1]=(bstate>>2)&1\n",
        "    state[:,:,2]=(bstate>>3)&1\n",
        "    state[:,:,3]=(bstate>>4)&1\n",
        "    return np.swapaxes(np.transpose(state),1,2)\n",
        "  def value(self):\n",
        "    return 0\n",
        "    "
      ],
      "execution_count": 0,
      "outputs": []
    },
    {
      "metadata": {
        "id": "J4-ezVnze-Z2",
        "colab_type": "code",
        "outputId": "1fe038e2-44c7-44c0-8132-5c21fcd02f82",
        "colab": {
          "base_uri": "https://localhost:8080/",
          "height": 231
        }
      },
      "cell_type": "code",
      "source": [
        "for i in os.listdir('./data'):\n",
        "    #print(i)\n",
        "    try:\n",
        "        f = open(os.path.join(\"./data\",i))\n",
        "        \n",
        "    except Exeption:\n",
        "        print(\"whether the file do not exists or there is a problem with png function !\")\n",
        "        break\n",
        "    game = 1\n",
        "    while game!= None:\n",
        "        game = chess.pgn.read_game(f)\n",
        "\n",
        "        who_wins = game.headers['Result'] \n",
        "        print(who_wins)\n",
        "        board = first_game.board()\n",
        "        for i,move in enumerate(first_game.mainline_moves()):\n",
        "        \n",
        "            board.push(move)\n",
        "            #print(' '*25+str(i),who_wins)\n",
        "            #print(board)"
      ],
      "execution_count": 0,
      "outputs": [
        {
          "output_type": "error",
          "ename": "FileNotFoundError",
          "evalue": "ignored",
          "traceback": [
            "\u001b[0;31m---------------------------------------------------------------------------\u001b[0m",
            "\u001b[0;31mFileNotFoundError\u001b[0m                         Traceback (most recent call last)",
            "\u001b[0;32m<ipython-input-5-a2209702d19c>\u001b[0m in \u001b[0;36m<module>\u001b[0;34m()\u001b[0m\n\u001b[0;32m----> 1\u001b[0;31m \u001b[0;32mfor\u001b[0m \u001b[0mi\u001b[0m \u001b[0;32min\u001b[0m \u001b[0mos\u001b[0m\u001b[0;34m.\u001b[0m\u001b[0mlistdir\u001b[0m\u001b[0;34m(\u001b[0m\u001b[0;34m'./data'\u001b[0m\u001b[0;34m)\u001b[0m\u001b[0;34m:\u001b[0m\u001b[0;34m\u001b[0m\u001b[0;34m\u001b[0m\u001b[0m\n\u001b[0m\u001b[1;32m      2\u001b[0m     \u001b[0;31m#print(i)\u001b[0m\u001b[0;34m\u001b[0m\u001b[0;34m\u001b[0m\u001b[0;34m\u001b[0m\u001b[0m\n\u001b[1;32m      3\u001b[0m     \u001b[0;32mtry\u001b[0m\u001b[0;34m:\u001b[0m\u001b[0;34m\u001b[0m\u001b[0;34m\u001b[0m\u001b[0m\n\u001b[1;32m      4\u001b[0m         \u001b[0mf\u001b[0m \u001b[0;34m=\u001b[0m \u001b[0mopen\u001b[0m\u001b[0;34m(\u001b[0m\u001b[0mos\u001b[0m\u001b[0;34m.\u001b[0m\u001b[0mpath\u001b[0m\u001b[0;34m.\u001b[0m\u001b[0mjoin\u001b[0m\u001b[0;34m(\u001b[0m\u001b[0;34m\"./data\"\u001b[0m\u001b[0;34m,\u001b[0m\u001b[0mi\u001b[0m\u001b[0;34m)\u001b[0m\u001b[0;34m)\u001b[0m\u001b[0;34m\u001b[0m\u001b[0;34m\u001b[0m\u001b[0m\n\u001b[1;32m      5\u001b[0m \u001b[0;34m\u001b[0m\u001b[0m\n",
            "\u001b[0;31mFileNotFoundError\u001b[0m: [Errno 2] No such file or directory: './data'"
          ]
        }
      ]
    },
    {
      "metadata": {
        "id": "lmSxKGkJfIYu",
        "colab_type": "code",
        "outputId": "98f8e5c2-b5ed-403b-81c6-bb79fc2332ca",
        "colab": {
          "base_uri": "https://localhost:8080/",
          "height": 221
        }
      },
      "cell_type": "code",
      "source": [
        "try:\n",
        "  !mkdir data\n",
        "except Exception:\n",
        "  print('file already exists')\n",
        "#\n",
        "#\n",
        "!wget http://kingbase-chess.net/download/747\n",
        "!ls"
      ],
      "execution_count": 3,
      "outputs": [
        {
          "output_type": "stream",
          "text": [
            "--2019-04-23 00:33:06--  http://kingbase-chess.net/download/747\n",
            "Resolving kingbase-chess.net (kingbase-chess.net)... 104.24.120.246, 104.24.121.246, 2606:4700:30::6818:78f6, ...\n",
            "Connecting to kingbase-chess.net (kingbase-chess.net)|104.24.120.246|:80... connected.\n",
            "HTTP request sent, awaiting response... 200 OK\n",
            "Length: 458606123 (437M) [application/zip]\n",
            "Saving to: ‘747’\n",
            "\n",
            "747                 100%[===================>] 437.36M  11.4MB/s    in 30s     \n",
            "\n",
            "2019-04-23 00:33:37 (14.5 MB/s) - ‘747’ saved [458606123/458606123]\n",
            "\n",
            "747  data  sample_data\n"
          ],
          "name": "stdout"
        }
      ]
    },
    {
      "metadata": {
        "id": "8ojLwZt9ao8r",
        "colab_type": "code",
        "outputId": "1507d277-83b5-4d4d-923d-98ad5ee9ee58",
        "colab": {
          "base_uri": "https://localhost:8080/",
          "height": 459
        }
      },
      "cell_type": "code",
      "source": [
        ""
      ],
      "execution_count": 0,
      "outputs": [
        {
          "output_type": "stream",
          "text": [
            "UnZip 6.00 of 20 April 2009, by Debian. Original by Info-ZIP.\n",
            "\n",
            "Usage: unzip [-Z] [-opts[modifiers]] file[.zip] [list] [-x xlist] [-d exdir]\n",
            "  Default action is to extract files in list, except those in xlist, to exdir;\n",
            "  file[.zip] may be a wildcard.  -Z => ZipInfo mode (\"unzip -Z\" for usage).\n",
            "\n",
            "  -p  extract files to pipe, no messages     -l  list files (short format)\n",
            "  -f  freshen existing files, create none    -t  test compressed archive data\n",
            "  -u  update files, create if necessary      -z  display archive comment only\n",
            "  -v  list verbosely/show version info       -T  timestamp archive to latest\n",
            "  -x  exclude files that follow (in xlist)   -d  extract files into exdir\n",
            "modifiers:\n",
            "  -n  never overwrite existing files         -q  quiet mode (-qq => quieter)\n",
            "  -o  overwrite files WITHOUT prompting      -a  auto-convert any text files\n",
            "  -j  junk paths (do not make directories)   -aa treat ALL files as text\n",
            "  -U  use escapes for all non-ASCII Unicode  -UU ignore any Unicode fields\n",
            "  -C  match filenames case-insensitively     -L  make (some) names lowercase\n",
            "  -X  restore UID/GID info                   -V  retain VMS version numbers\n",
            "  -K  keep setuid/setgid/tacky permissions   -M  pipe through \"more\" pager\n",
            "  -O CHARSET  specify a character encoding for DOS, Windows and OS/2 archives\n",
            "  -I CHARSET  specify a character encoding for UNIX and other archives\n",
            "\n",
            "See \"unzip -hh\" or unzip.txt for more help.  Examples:\n",
            "  unzip data1 -x joe   => extract all files except joe from zipfile data1.zip\n",
            "  unzip -p foo | more  => send contents of foo.zip via pipe into program more\n",
            "  unzip -fo foo ReadMe => quietly replace existing ReadMe if archive file newer\n"
          ],
          "name": "stdout"
        }
      ]
    },
    {
      "metadata": {
        "id": "TYT4dpMEjhSR",
        "colab_type": "code",
        "outputId": "654277e8-67bb-4990-fd09-3a6e5bb414d6",
        "colab": {
          "base_uri": "https://localhost:8080/",
          "height": 323
        }
      },
      "cell_type": "code",
      "source": [
        "#!mv 747 ./data\n",
        "!ls\n",
        "#!cd ./data\n",
        "!ls\n",
        "#!mkdir data\n",
        "\n",
        "!unzip ./747 -d ./data/"
      ],
      "execution_count": 4,
      "outputs": [
        {
          "output_type": "stream",
          "text": [
            "747  data  sample_data\n",
            "747  data  sample_data\n",
            "Archive:  ./747\n",
            "  inflating: ./data/KingBase2019-A00-A39.pgn  \n",
            "  inflating: ./data/KingBase2019-A40-A79.pgn  \n",
            "  inflating: ./data/KingBase2019-A80-A99.pgn  \n",
            "  inflating: ./data/KingBase2019-B00-B19.pgn  \n",
            "  inflating: ./data/KingBase2019-B20-B49.pgn  \n",
            "  inflating: ./data/KingBase2019-B50-B99.pgn  \n",
            "  inflating: ./data/KingBase2019-C00-C19.pgn  \n",
            "  inflating: ./data/KingBase2019-C20-C59.pgn  \n",
            "  inflating: ./data/KingBase2019-C60-C99.pgn  \n",
            "  inflating: ./data/KingBase2019-D00-D29.pgn  \n",
            "  inflating: ./data/KingBase2019-D30-D69.pgn  \n",
            "  inflating: ./data/KingBase2019-D70-D99.pgn  \n",
            "  inflating: ./data/KingBase2019-E00-E19.pgn  \n",
            "  inflating: ./data/KingBase2019-E20-E59.pgn  \n",
            "  inflating: ./data/KingBase2019-E60-E99.pgn  \n"
          ],
          "name": "stdout"
        }
      ]
    },
    {
      "metadata": {
        "id": "PJ89QKWtoCR4",
        "colab_type": "text"
      },
      "cell_type": "markdown",
      "source": [
        ""
      ]
    },
    {
      "metadata": {
        "id": "XRhQF44ToDx5",
        "colab_type": "code",
        "colab": {}
      },
      "cell_type": "code",
      "source": [
        "#!mv ./data/747 ./\n",
        "#!sudo apt-get install gdb\n"
      ],
      "execution_count": 0,
      "outputs": []
    },
    {
      "metadata": {
        "id": "XJZijsBalRME",
        "colab_type": "code",
        "outputId": "380f588a-ce40-4b7b-bcf5-0dec38b07209",
        "colab": {
          "base_uri": "https://localhost:8080/",
          "height": 323
        }
      },
      "cell_type": "code",
      "source": [
        "# this step is not neccesery but we use it to move files to data folder \n",
        "for i in os.listdir():\n",
        "  if i[0]=='K':\n",
        "    os.rename('./'+i,'./data/'+i)\n",
        "  print(i[0])\n"
      ],
      "execution_count": 0,
      "outputs": [
        {
          "output_type": "stream",
          "text": [
            ".\n",
            "K\n",
            "K\n",
            "K\n",
            "K\n",
            "K\n",
            "d\n",
            "K\n",
            "K\n",
            "K\n",
            "K\n",
            "K\n",
            "K\n",
            "K\n",
            "K\n",
            "K\n",
            "K\n",
            "s\n"
          ],
          "name": "stdout"
        }
      ]
    },
    {
      "metadata": {
        "id": "qD5O5yqHdQs6",
        "colab_type": "code",
        "outputId": "c30ae73a-2398-4490-dcf4-64d793cfd92a",
        "colab": {
          "base_uri": "https://localhost:8080/",
          "height": 326
        }
      },
      "cell_type": "code",
      "source": [
        "!nvidia-smi\n",
        "#!cat /proc/cpuinfo\n",
        "import torch\n",
        "\n",
        "print(torch.cuda.is_available())"
      ],
      "execution_count": 0,
      "outputs": [
        {
          "output_type": "stream",
          "text": [
            "Wed Mar 27 02:44:45 2019       \n",
            "+-----------------------------------------------------------------------------+\n",
            "| NVIDIA-SMI 418.43       Driver Version: 410.79       CUDA Version: 10.0     |\n",
            "|-------------------------------+----------------------+----------------------+\n",
            "| GPU  Name        Persistence-M| Bus-Id        Disp.A | Volatile Uncorr. ECC |\n",
            "| Fan  Temp  Perf  Pwr:Usage/Cap|         Memory-Usage | GPU-Util  Compute M. |\n",
            "|===============================+======================+======================|\n",
            "|   0  Tesla K80           Off  | 00000000:00:04.0 Off |                    0 |\n",
            "| N/A   73C    P0    71W / 149W |    121MiB / 11441MiB |      0%      Default |\n",
            "+-------------------------------+----------------------+----------------------+\n",
            "                                                                               \n",
            "+-----------------------------------------------------------------------------+\n",
            "| Processes:                                                       GPU Memory |\n",
            "|  GPU       PID   Type   Process name                             Usage      |\n",
            "|=============================================================================|\n",
            "+-----------------------------------------------------------------------------+\n",
            "True\n"
          ],
          "name": "stdout"
        }
      ]
    },
    {
      "metadata": {
        "id": "UOnlSaWD-G5w",
        "colab_type": "code",
        "colab": {}
      },
      "cell_type": "code",
      "source": [
        "\n",
        "      "
      ],
      "execution_count": 0,
      "outputs": []
    },
    {
      "metadata": {
        "id": "XtWf3GsIF522",
        "colab_type": "code",
        "colab": {}
      },
      "cell_type": "code",
      "source": [
        ""
      ],
      "execution_count": 0,
      "outputs": []
    },
    {
      "metadata": {
        "id": "f2VTe3pLlj5Z",
        "colab_type": "code",
        "outputId": "236b2e53-1711-4dea-ac11-e2a6881cdf65",
        "colab": {
          "base_uri": "https://localhost:8080/",
          "height": 1887
        }
      },
      "cell_type": "code",
      "source": [
        "def get_dataset(data_size=10000):\n",
        "  X=[]\n",
        "  Y=[]\n",
        "  for file in os.listdir('./data'):\n",
        "      #print(i)\n",
        "      try:\n",
        "          f = open(os.path.join(\"./data\",file))\n",
        "\n",
        "      except Exception:\n",
        "          print(\"whether the file does not exist or there is a problem with png function !\")\n",
        "          break\n",
        "      game = 1\n",
        "      game_number =0\n",
        "      while game!= None:\n",
        "          try:\n",
        "            game = chess.pgn.read_game(f)\n",
        "            game_number+=1\n",
        "          except Exception:\n",
        "            break\n",
        "\n",
        "          who_wins = {'0-1':-1,'1-0':1,'1/2-1/2':0}[game.headers['Result']]\n",
        "          print('parsing game #',game_number,' number of exemple parsed',len(X))\n",
        "          state = State(game.board())\n",
        "          for i,move in enumerate(game.main_line()):\n",
        "              \n",
        "              state.board.push(move)\n",
        "              X.append(state.serialize()[0,:,:])\n",
        "              Y.append(who_wins)\n",
        "              #print(' '*25+str(i),who_wins)\n",
        "              #print(board)\n",
        "              if len(X)>data_size:\n",
        "                return X,Y\n",
        "            \n",
        "      return X,Y\n",
        "   \n",
        "              \n",
        "              \n",
        "              \n",
        "              \n",
        "          \n",
        "torch.set_default_tensor_type('torch.DoubleTensor')\n",
        "X,Y = get_dataset()\n",
        "X = np.reshape(np.array(X,dtype=float),(-1,1,8,8))\n",
        "Y = np.array(Y)\n",
        "\n",
        "datachess = chessData(X,Y)\n",
        "model = NetModel()\n",
        "optimizer = optim.Adam(model.parameters())\n",
        "Batch = DataLoader(dataset=datachess,batch_size=1)\n",
        "criterion = nn.MSELoss()\n",
        "def train_net(model,batch,criterion,optimizer,epoch=1):\n",
        "  for _ in range(epoch):\n",
        "    for x,y in Batch:\n",
        "\n",
        "      #print(x.shape)\n",
        "      yhat = model(x)\n",
        "      #print(yhat)\n",
        "      #print(yhat.shape)\n",
        "      #print(y.shape)\n",
        "      \n",
        "      \n",
        "train_net(model,Batch,criterion,optimizer)"
      ],
      "execution_count": 25,
      "outputs": [
        {
          "output_type": "stream",
          "text": [
            "parsing game # 1  number of exemple parsed 0\n",
            "parsing game # 2  number of exemple parsed 129\n",
            "parsing game # 3  number of exemple parsed 249\n",
            "parsing game # 4  number of exemple parsed 332\n",
            "parsing game # 5  number of exemple parsed 432\n",
            "parsing game # 6  number of exemple parsed 504\n",
            "parsing game # 7  number of exemple parsed 560\n",
            "parsing game # 8  number of exemple parsed 634\n",
            "parsing game # 9  number of exemple parsed 735\n",
            "parsing game # 10  number of exemple parsed 837\n",
            "parsing game # 11  number of exemple parsed 857\n",
            "parsing game # 12  number of exemple parsed 954\n",
            "parsing game # 13  number of exemple parsed 1105\n",
            "parsing game # 14  number of exemple parsed 1197\n",
            "parsing game # 15  number of exemple parsed 1228\n",
            "parsing game # 16  number of exemple parsed 1357\n",
            "parsing game # 17  number of exemple parsed 1499\n",
            "parsing game # 18  number of exemple parsed 1607\n",
            "parsing game # 19  number of exemple parsed 1684\n",
            "parsing game # 20  number of exemple parsed 1751\n",
            "parsing game # 21  number of exemple parsed 1835\n",
            "parsing game # 22  number of exemple parsed 1940\n",
            "parsing game # 23  number of exemple parsed 2074\n",
            "parsing game # 24  number of exemple parsed 2166\n",
            "parsing game # 25  number of exemple parsed 2342\n",
            "parsing game # 26  number of exemple parsed 2444\n",
            "parsing game # 27  number of exemple parsed 2510\n",
            "parsing game # 28  number of exemple parsed 2598\n",
            "parsing game # 29  number of exemple parsed 2661\n",
            "parsing game # 30  number of exemple parsed 2700\n",
            "parsing game # 31  number of exemple parsed 2833\n",
            "parsing game # 32  number of exemple parsed 2930\n",
            "parsing game # 33  number of exemple parsed 2988\n",
            "parsing game # 34  number of exemple parsed 3091\n",
            "parsing game # 35  number of exemple parsed 3183\n",
            "parsing game # 36  number of exemple parsed 3288\n",
            "parsing game # 37  number of exemple parsed 3372\n",
            "parsing game # 38  number of exemple parsed 3470\n",
            "parsing game # 39  number of exemple parsed 3596\n",
            "parsing game # 40  number of exemple parsed 3650\n",
            "parsing game # 41  number of exemple parsed 3748\n",
            "parsing game # 42  number of exemple parsed 3812\n",
            "parsing game # 43  number of exemple parsed 3949\n",
            "parsing game # 44  number of exemple parsed 4051\n",
            "parsing game # 45  number of exemple parsed 4151\n",
            "parsing game # 46  number of exemple parsed 4237\n",
            "parsing game # 47  number of exemple parsed 4310\n",
            "parsing game # 48  number of exemple parsed 4372\n",
            "parsing game # 49  number of exemple parsed 4568\n",
            "parsing game # 50  number of exemple parsed 4625\n",
            "parsing game # 51  number of exemple parsed 4716\n",
            "parsing game # 52  number of exemple parsed 4778\n",
            "parsing game # 53  number of exemple parsed 4860\n",
            "parsing game # 54  number of exemple parsed 4901\n",
            "parsing game # 55  number of exemple parsed 4986\n",
            "parsing game # 56  number of exemple parsed 5172\n",
            "parsing game # 57  number of exemple parsed 5316\n",
            "parsing game # 58  number of exemple parsed 5408\n",
            "parsing game # 59  number of exemple parsed 5504\n",
            "parsing game # 60  number of exemple parsed 5543\n",
            "parsing game # 61  number of exemple parsed 5707\n",
            "parsing game # 62  number of exemple parsed 5848\n",
            "parsing game # 63  number of exemple parsed 5885\n",
            "parsing game # 64  number of exemple parsed 5964\n",
            "parsing game # 65  number of exemple parsed 6079\n",
            "parsing game # 66  number of exemple parsed 6152\n",
            "parsing game # 67  number of exemple parsed 6210\n",
            "parsing game # 68  number of exemple parsed 6238\n",
            "parsing game # 69  number of exemple parsed 6340\n",
            "parsing game # 70  number of exemple parsed 6413\n",
            "parsing game # 71  number of exemple parsed 6542\n",
            "parsing game # 72  number of exemple parsed 6654\n",
            "parsing game # 73  number of exemple parsed 6762\n",
            "parsing game # 74  number of exemple parsed 6823\n",
            "parsing game # 75  number of exemple parsed 6874\n",
            "parsing game # 76  number of exemple parsed 6936\n",
            "parsing game # 77  number of exemple parsed 6983\n",
            "parsing game # 78  number of exemple parsed 7031\n",
            "parsing game # 79  number of exemple parsed 7070\n",
            "parsing game # 80  number of exemple parsed 7185\n",
            "parsing game # 81  number of exemple parsed 7276\n",
            "parsing game # 82  number of exemple parsed 7338\n",
            "parsing game # 83  number of exemple parsed 7428\n",
            "parsing game # 84  number of exemple parsed 7562\n",
            "parsing game # 85  number of exemple parsed 7643\n",
            "parsing game # 86  number of exemple parsed 7744\n",
            "parsing game # 87  number of exemple parsed 7802\n",
            "parsing game # 88  number of exemple parsed 7863\n",
            "parsing game # 89  number of exemple parsed 7954\n",
            "parsing game # 90  number of exemple parsed 8034\n",
            "parsing game # 91  number of exemple parsed 8154\n",
            "parsing game # 92  number of exemple parsed 8337\n",
            "parsing game # 93  number of exemple parsed 8393\n",
            "parsing game # 94  number of exemple parsed 8473\n",
            "parsing game # 95  number of exemple parsed 8566\n",
            "parsing game # 96  number of exemple parsed 8633\n",
            "parsing game # 97  number of exemple parsed 8713\n",
            "parsing game # 98  number of exemple parsed 8760\n",
            "parsing game # 99  number of exemple parsed 8877\n",
            "parsing game # 100  number of exemple parsed 8959\n",
            "parsing game # 101  number of exemple parsed 9103\n",
            "parsing game # 102  number of exemple parsed 9150\n",
            "parsing game # 103  number of exemple parsed 9227\n",
            "parsing game # 104  number of exemple parsed 9346\n",
            "parsing game # 105  number of exemple parsed 9458\n",
            "parsing game # 106  number of exemple parsed 9533\n",
            "parsing game # 107  number of exemple parsed 9697\n",
            "parsing game # 108  number of exemple parsed 9818\n",
            "parsing game # 109  number of exemple parsed 9912\n",
            "parsing game # 110  number of exemple parsed 9981\n"
          ],
          "name": "stdout"
        }
      ]
    },
    {
      "metadata": {
        "id": "SeZLlZuMpAad",
        "colab_type": "code",
        "outputId": "d8a72140-3753-49b5-a136-d218f96bea64",
        "colab": {
          "base_uri": "https://localhost:8080/",
          "height": 34
        }
      },
      "cell_type": "code",
      "source": [
        "#!cat /proc/cpuinfo\n",
        "import torch\n",
        "print(torch.__version__)"
      ],
      "execution_count": 0,
      "outputs": [
        {
          "output_type": "stream",
          "text": [
            "1.0.1.post2\n"
          ],
          "name": "stdout"
        }
      ]
    },
    {
      "metadata": {
        "id": "bfrXp3SAmP98",
        "colab_type": "code",
        "colab": {}
      },
      "cell_type": "code",
      "source": [
        ""
      ],
      "execution_count": 0,
      "outputs": []
    },
    {
      "metadata": {
        "id": "a2uJCYBZ9261",
        "colab_type": "code",
        "colab": {}
      },
      "cell_type": "code",
      "source": [
        ""
      ],
      "execution_count": 0,
      "outputs": []
    }
  ]
}